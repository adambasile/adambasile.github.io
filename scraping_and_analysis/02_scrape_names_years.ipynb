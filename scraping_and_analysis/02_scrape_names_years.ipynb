{
 "cells": [
  {
   "cell_type": "code",
   "execution_count": 1,
   "metadata": {},
   "outputs": [],
   "source": [
    "from bs4 import BeautifulSoup\n",
    "import pandas as pd\n",
    "from multiprocessing import Pool\n",
    "import datetime\n",
    "import urllib.request\n",
    "import scrapers\n",
    "import requests"
   ]
  },
  {
   "cell_type": "code",
   "execution_count": 2,
   "metadata": {},
   "outputs": [],
   "source": [
    "import itertools\n",
    "\n",
    "\n",
    "def p_imap_unordered_list(pool, func, iterable):\n",
    "    temp = pool.imap_unordered(func, iterable)\n",
    "    return list(temp)\n",
    "\n",
    "the_time = lambda: datetime.datetime.now().time().strftime('%H:%M:%S')"
   ]
  },
  {
   "cell_type": "code",
   "execution_count": 3,
   "metadata": {},
   "outputs": [],
   "source": [
    "data = pd.read_csv(\"scraped.csv\").query(\"team != 'team/'\")\n",
    "riders = set(data[\"rider\"])\n",
    "teams = set(data[\"team\"])"
   ]
  },
  {
   "cell_type": "code",
   "execution_count": 4,
   "metadata": {},
   "outputs": [
    {
     "name": "stdout",
     "output_type": "stream",
     "text": [
      "14:36:48\n",
      "14:38:40\n",
      "14:49:01\n"
     ]
    }
   ],
   "source": [
    "print(the_time())\n",
    "with Pool(50) as p:\n",
    "    pretty_teams = p_imap_unordered_list(p, scrapers.get_pretty_team, teams)\n",
    "print(the_time())\n",
    "with Pool(50) as p:\n",
    "    pretty_riders = p_imap_unordered_list(p, scrapers.get_pretty_rider, riders)\n",
    "print(the_time())"
   ]
  },
  {
   "cell_type": "code",
   "execution_count": 5,
   "metadata": {},
   "outputs": [],
   "source": [
    "out = pd.DataFrame(pretty_riders+pretty_teams)[[\"name\", \"url\", \"year\"]]\n",
    "out[\"name\"] = out[\"name\"].str.strip()\n",
    "out = out.sort_values([\"name\", \"year\"])\n",
    "out.to_csv(\"names.csv\", index=False)"
   ]
  }
 ],
 "metadata": {
  "kernelspec": {
   "display_name": "Python 3",
   "language": "python",
   "name": "python3"
  },
  "language_info": {
   "codemirror_mode": {
    "name": "ipython",
    "version": 3
   },
   "file_extension": ".py",
   "mimetype": "text/x-python",
   "name": "python",
   "nbconvert_exporter": "python",
   "pygments_lexer": "ipython3",
   "version": "3.8.6"
  }
 },
 "nbformat": 4,
 "nbformat_minor": 4
}
