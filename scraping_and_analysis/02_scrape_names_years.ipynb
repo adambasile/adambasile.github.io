{
 "cells": [
  {
   "cell_type": "code",
   "execution_count": 78,
   "metadata": {},
   "outputs": [],
   "source": [
    "from bs4 import BeautifulSoup\n",
    "import pandas as pd\n",
    "from multiprocessing import Pool\n",
    "import datetime\n",
    "import urllib.request\n",
    "import scrapers\n",
    "import requests"
   ]
  },
  {
   "cell_type": "code",
   "execution_count": 2,
   "metadata": {},
   "outputs": [],
   "source": [
    "import itertools\n",
    "import tqdm.notebook as tqdm\n",
    "\n",
    "\n",
    "def p_imap_unordered_list(pool, func, iterable):\n",
    "    iterable = list(iterable)\n",
    "    temp = tqdm.tqdm(pool.imap_unordered(func, iterable), total=len(iterable))\n",
    "    return list(temp)\n",
    "\n",
    "\n",
    "the_time = lambda: datetime.datetime.now().time().strftime(\"%H:%M:%S\")"
   ]
  },
  {
   "cell_type": "code",
   "execution_count": 3,
   "metadata": {},
   "outputs": [],
   "source": [
    "data = pd.read_csv(\"scraped.csv\").query(\"team != 'team/'\")\n",
    "riders = set(data[\"rider\"])\n",
    "teams = set(data[\"team\"])"
   ]
  },
  {
   "cell_type": "code",
   "execution_count": 4,
   "metadata": {},
   "outputs": [
    {
     "name": "stdout",
     "output_type": "stream",
     "text": [
      "18:47:03\n"
     ]
    },
    {
     "data": {
      "application/vnd.jupyter.widget-view+json": {
       "model_id": "f0d0c0db5d7e4d5c8fa9d7d7de43a3f3",
       "version_major": 2,
       "version_minor": 0
      },
      "text/plain": [
       "  0%|          | 0/23429 [00:00<?, ?it/s]"
      ]
     },
     "metadata": {},
     "output_type": "display_data"
    },
    {
     "name": "stdout",
     "output_type": "stream",
     "text": [
      "18:58:39\n"
     ]
    },
    {
     "data": {
      "application/vnd.jupyter.widget-view+json": {
       "model_id": "2c7288d5ac12489688f47f4fa413a5a8",
       "version_major": 2,
       "version_minor": 0
      },
      "text/plain": [
       "  0%|          | 0/72879 [00:00<?, ?it/s]"
      ]
     },
     "metadata": {},
     "output_type": "display_data"
    },
    {
     "name": "stdout",
     "output_type": "stream",
     "text": [
      "19:39:00\n"
     ]
    }
   ],
   "source": [
    "print(the_time())\n",
    "with Pool(50) as p:\n",
    "    pretty_teams = p_imap_unordered_list(p, scrapers.get_pretty_team, teams)\n",
    "print(the_time())\n",
    "with Pool(50) as p:\n",
    "    pretty_riders = p_imap_unordered_list(p, scrapers.get_pretty_rider, riders)\n",
    "print(the_time())"
   ]
  },
  {
   "cell_type": "code",
   "execution_count": 111,
   "metadata": {},
   "outputs": [],
   "source": [
    "out = pd.DataFrame(pretty_riders+pretty_teams)[[\"name\", \"url\", \"year\"]]\n",
    "out[\"name\"] = out[\"name\"].str.strip()\n",
    "out = out.sort_values([\"name\", \"year\"])\n",
    "out = out[out[\"name\"].astype(bool)] # empties are errors on firstcycling's part"
   ]
  },
  {
   "cell_type": "code",
   "execution_count": 92,
   "metadata": {},
   "outputs": [
    {
     "data": {
      "application/vnd.jupyter.widget-view+json": {
       "model_id": "d8610d6fd7e9467c9009fcf64dd0946b",
       "version_major": 2,
       "version_minor": 0
      },
      "text/plain": [
       "  0%|          | 0/6880 [00:00<?, ?it/s]"
      ]
     },
     "metadata": {},
     "output_type": "display_data"
    }
   ],
   "source": [
    "scraped = pd.read_csv(\"scraped.csv\")\n",
    "with Pool(50) as p:\n",
    "    teams_to_fix = p_imap_unordered_list(\n",
    "        p,\n",
    "        scrapers.team_year_from_rider,\n",
    "        (\n",
    "            scraped[scraped[\"team\"].isin(-out.query(\"year == 1\")[\"url\"])]\n",
    "            .drop_duplicates(\"team\")\n",
    "            .itertuples(index=False, name=None)\n",
    "        ),\n",
    "    )\n",
    "big_teams_to_fix = {-team:year for d in teams_to_fix for team,year in d.items()}"
   ]
  },
  {
   "cell_type": "code",
   "execution_count": 117,
   "metadata": {},
   "outputs": [],
   "source": [
    "to_replace = out[\"url\"].map(big_teams_to_fix).dropna().convert_dtypes()\n",
    "out.loc[to_replace.index, \"year\"] = to_replace\n",
    "out.to_csv(\"names.csv\", index=False)"
   ]
  }
 ],
 "metadata": {
  "kernelspec": {
   "display_name": "Python 3",
   "language": "python",
   "name": "python3"
  },
  "language_info": {
   "codemirror_mode": {
    "name": "ipython",
    "version": 3
   },
   "file_extension": ".py",
   "mimetype": "text/x-python",
   "name": "python",
   "nbconvert_exporter": "python",
   "pygments_lexer": "ipython3",
   "version": "3.8.6"
  }
 },
 "nbformat": 4,
 "nbformat_minor": 4
}
