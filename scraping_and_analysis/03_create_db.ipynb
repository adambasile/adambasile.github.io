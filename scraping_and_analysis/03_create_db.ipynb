{
 "cells": [
  {
   "cell_type": "code",
   "execution_count": 1,
   "id": "timely-difference",
   "metadata": {},
   "outputs": [],
   "source": [
    "import os\n",
    "import pandas as pd\n",
    "import sqlite3 as sqlite"
   ]
  },
  {
   "cell_type": "code",
   "execution_count": 2,
   "id": "certified-salmon",
   "metadata": {},
   "outputs": [],
   "source": [
    "data = pd.read_csv(\"scraped.csv\").query(\"team != 'team/'\")"
   ]
  },
  {
   "cell_type": "code",
   "execution_count": 3,
   "id": "vietnamese-south",
   "metadata": {},
   "outputs": [],
   "source": [
    "names = pd.read_csv(\"names.csv\", encoding=\"utf-8\")"
   ]
  },
  {
   "cell_type": "code",
   "execution_count": 4,
   "id": "steady-mapping",
   "metadata": {},
   "outputs": [],
   "source": [
    "sport_ents = names.copy()\n",
    "sport_ents[\"name\"].str.replace(r\"\\s+\", \" \", regex=True)\n",
    "sport_ents = sport_ents.reset_index()\n",
    "sport_ents[\"index\"] += 1\n",
    "\n",
    "sport_ents = sport_ents.to_numpy().tolist()\n",
    "\n",
    "id_mapping = {f\"{'team' if year else 'rider'}/{url}\": i for i, _, url, year in sport_ents}"
   ]
  },
  {
   "cell_type": "code",
   "execution_count": 5,
   "id": "focal-covering",
   "metadata": {},
   "outputs": [],
   "source": [
    "graph = pd.DataFrame()\n",
    "graph[\"A\"] = data[\"rider\"].map(id_mapping)\n",
    "graph[\"B\"] = data[\"team\"].map(id_mapping)\n",
    "\n",
    "graph_sql = graph.to_numpy().tolist() + graph.to_numpy()[:,::-1].tolist()"
   ]
  },
  {
   "cell_type": "code",
   "execution_count": 6,
   "id": "surprising-leonard",
   "metadata": {},
   "outputs": [],
   "source": [
    "path_to_db = \"../docs/graph.sqlite\"\n",
    "try:\n",
    "    try:\n",
    "        os.remove(path_to_db)\n",
    "    except:\n",
    "        conn.close()\n",
    "        del conn\n",
    "        os.remove(path_to_db)\n",
    "except FileNotFoundError:\n",
    "    pass"
   ]
  },
  {
   "cell_type": "code",
   "execution_count": 7,
   "id": "atomic-worker",
   "metadata": {},
   "outputs": [],
   "source": [
    "with sqlite.connect(path_to_db) as conn:\n",
    "    conn.execute(\"\"\"CREATE TABLE sport_ents (\n",
    "                    id int PRIMARY KEY,\n",
    "                    name text NOT NULL,\n",
    "                    url text NOT NULL,\n",
    "                    year int NOT NULL\n",
    "                ) WITHOUT ROWID\"\"\")\n",
    "    conn.executemany(\"INSERT INTO sport_ents VALUES (?, ?, ?, ?)\", sport_ents)\n",
    "    conn.execute(\"\"\"CREATE TABLE graph (\n",
    "                    a int NOT NULL,\n",
    "                    b int NOT NULL)\"\"\")\n",
    "    conn.executemany(\"INSERT INTO graph VALUES (?, ?)\", graph_sql)\n",
    "    conn.execute(\"CREATE INDEX graph_roots ON graph (a) \")\n",
    "conn.close()\n",
    "del conn"
   ]
  },
  {
   "cell_type": "code",
   "execution_count": null,
   "id": "planned-sweden",
   "metadata": {},
   "outputs": [],
   "source": []
  }
 ],
 "metadata": {
  "kernelspec": {
   "display_name": "Python 3",
   "language": "python",
   "name": "python3"
  },
  "language_info": {
   "codemirror_mode": {
    "name": "ipython",
    "version": 3
   },
   "file_extension": ".py",
   "mimetype": "text/x-python",
   "name": "python",
   "nbconvert_exporter": "python",
   "pygments_lexer": "ipython3",
   "version": "3.8.6"
  }
 },
 "nbformat": 4,
 "nbformat_minor": 5
}
