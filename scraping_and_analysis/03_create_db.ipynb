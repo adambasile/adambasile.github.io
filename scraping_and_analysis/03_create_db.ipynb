{
 "cells": [
  {
   "cell_type": "code",
   "execution_count": 1,
   "id": "brief-somalia",
   "metadata": {},
   "outputs": [],
   "source": [
    "import os\n",
    "import pandas as pd\n",
    "import sqlite3 as sqlite"
   ]
  },
  {
   "cell_type": "code",
   "execution_count": 2,
   "id": "ecological-treasurer",
   "metadata": {},
   "outputs": [],
   "source": [
    "data = pd.read_csv(\"scraped.csv\").query(\"team != 'team/'\")"
   ]
  },
  {
   "cell_type": "code",
   "execution_count": 3,
   "id": "romantic-workplace",
   "metadata": {},
   "outputs": [],
   "source": [
    "names = pd.read_csv(\"names.csv\", encoding=\"utf-8\")"
   ]
  },
  {
   "cell_type": "code",
   "execution_count": 4,
   "id": "alert-laundry",
   "metadata": {},
   "outputs": [],
   "source": [
    "sport_ents = names[~names[\"name\"].str.startswith(\"Ind-\")].copy()"
   ]
  },
  {
   "cell_type": "code",
   "execution_count": 5,
   "id": "isolated-western",
   "metadata": {},
   "outputs": [],
   "source": [
    "graph = pd.DataFrame()\n",
    "graph[\"A\"] = data[\"rider\"]\n",
    "graph[\"B\"] = -data[\"team\"]\n",
    "\n",
    "graph = graph[graph.isin(set(sport_ents[\"url\"])).all(axis=1)]\n",
    "sport_ents = sport_ents[sport_ents[\"url\"].isin(set(graph.stack()))]\n",
    "\n",
    "graph_sql = graph.to_numpy().tolist() + graph.to_numpy()[:,::-1].tolist()"
   ]
  },
  {
   "cell_type": "code",
   "execution_count": 6,
   "id": "furnished-playing",
   "metadata": {},
   "outputs": [],
   "source": [
    "path_to_db = \"../docs/graph.sqlite\"\n",
    "try:\n",
    "    try:\n",
    "        os.remove(path_to_db)\n",
    "    except:\n",
    "        conn.close()\n",
    "        del conn\n",
    "        os.remove(path_to_db)\n",
    "except FileNotFoundError:\n",
    "    pass"
   ]
  },
  {
   "cell_type": "code",
   "execution_count": 7,
   "id": "detected-brave",
   "metadata": {},
   "outputs": [],
   "source": [
    "bad_team_rider_combos = [\n",
    "    (18468, -17275),\n",
    "    (2665, -2305),\n",
    "    (2665, -1768),\n",
    "    (87656, -20911),\n",
    "    (87656, -20912),\n",
    "    (11500, -4699),\n",
    "    (62162, -18287),\n",
    "    (1492, -4887),\n",
    "    (21848, -4714),\n",
    "    (517, -4565),\n",
    "    (517, -4566),\n",
    "    (9489, -21170),\n",
    "    (14157, -2195),\n",
    "    (2620, -23957),\n",
    "    (2620, -2968),\n",
    "    (2620, -23829),\n",
    "    (19440, -23611),\n",
    "    (5250, -2205),\n",
    "    (5250, -1212),\n",
    "    (5250, -2484),\n",
    "    (10509, -18082),\n",
    "    (2660, -4959),\n",
    "    (126466, -17812),\n",
    "    (43136, -14619),\n",
    "    (7151, -971),\n",
    "    (10193, -3037),\n",
    "    (10193, -4679),\n",
    "    (10193, -4680),\n",
    "    (3952, -810),\n",
    "    (6710, -841),\n",
    "    (58449, -18341),\n",
    "    (126438, -20214),\n",
    "    (126438, -17808)\n",
    "]\n",
    "bad_team_rider_combos = \" or \".join(f\"(a={i} and b ={j}) or (a={j} and b={i})\" for i, j in bad_team_rider_combos)\n",
    "\n",
    "with sqlite.connect(path_to_db) as conn:\n",
    "    conn.execute(\n",
    "        \"\"\"CREATE TABLE sport_ents (\n",
    "                    name text NOT NULL,\n",
    "                    url int NOT NULL,\n",
    "                    year int NOT NULL\n",
    "                ) \"\"\"\n",
    "    )\n",
    "    conn.execute(\"CREATE INDEX urls ON sport_ents (url) \")\n",
    "    conn.executemany(\"INSERT INTO sport_ents VALUES (?, ?, ?)\", sport_ents.to_numpy().tolist())\n",
    "    conn.execute(\n",
    "        \"\"\"CREATE TABLE graph (\n",
    "                    a int NOT NULL,\n",
    "                    b int NOT NULL)\"\"\"\n",
    "    )\n",
    "    conn.executemany(\"INSERT INTO graph VALUES (?, ?)\", graph_sql)\n",
    "    # remove bad entries\n",
    "    conn.execute(f\"delete from graph where {bad_team_rider_combos}\")\n",
    "    conn.execute(\"CREATE INDEX graph_roots ON graph (a) \")\n",
    "conn.close()\n",
    "del conn"
   ]
  },
  {
   "cell_type": "code",
   "execution_count": null,
   "id": "reduced-northwest",
   "metadata": {},
   "outputs": [],
   "source": []
  },
  {
   "cell_type": "code",
   "execution_count": null,
   "id": "similar-confusion",
   "metadata": {},
   "outputs": [],
   "source": []
  },
  {
   "cell_type": "code",
   "execution_count": null,
   "id": "individual-christianity",
   "metadata": {},
   "outputs": [],
   "source": []
  }
 ],
 "metadata": {
  "kernelspec": {
   "display_name": "Python 3",
   "language": "python",
   "name": "python3"
  },
  "language_info": {
   "codemirror_mode": {
    "name": "ipython",
    "version": 3
   },
   "file_extension": ".py",
   "mimetype": "text/x-python",
   "name": "python",
   "nbconvert_exporter": "python",
   "pygments_lexer": "ipython3",
   "version": "3.8.6"
  }
 },
 "nbformat": 4,
 "nbformat_minor": 5
}
