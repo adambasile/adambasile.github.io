{
 "cells": [
  {
   "cell_type": "code",
   "execution_count": 24,
   "id": "virgin-interstate",
   "metadata": {},
   "outputs": [],
   "source": [
    "import os\n",
    "import pandas as pd\n",
    "import sqlite3 as sqlite"
   ]
  },
  {
   "cell_type": "code",
   "execution_count": 25,
   "id": "sticky-tumor",
   "metadata": {},
   "outputs": [],
   "source": [
    "data = pd.read_csv(\"scraped.csv\").query(\"team != 'team/'\")"
   ]
  },
  {
   "cell_type": "code",
   "execution_count": 26,
   "id": "atomic-packaging",
   "metadata": {},
   "outputs": [],
   "source": [
    "names = pd.read_csv(\"names.csv\", encoding=\"utf-8\")"
   ]
  },
  {
   "cell_type": "code",
   "execution_count": 27,
   "id": "stopped-tulsa",
   "metadata": {},
   "outputs": [],
   "source": [
    "sport_ents = names.copy()"
   ]
  },
  {
   "cell_type": "code",
   "execution_count": 28,
   "id": "light-allah",
   "metadata": {},
   "outputs": [],
   "source": [
    "graph = pd.DataFrame()\n",
    "graph[\"A\"] = data[\"rider\"]\n",
    "graph[\"B\"] = -data[\"team\"]\n",
    "graph = graph[graph.isin(set(sport_ents[\"url\"])).all(axis=1)]\n",
    "\n",
    "graph_sql = graph.to_numpy().tolist() + graph.to_numpy()[:,::-1].tolist()"
   ]
  },
  {
   "cell_type": "code",
   "execution_count": 39,
   "id": "latter-pantyhose",
   "metadata": {},
   "outputs": [],
   "source": [
    "path_to_db = \"../docs/graph.sqlite\"\n",
    "try:\n",
    "    try:\n",
    "        os.remove(path_to_db)\n",
    "    except:\n",
    "        conn.close()\n",
    "        del conn\n",
    "        os.remove(path_to_db)\n",
    "except FileNotFoundError:\n",
    "    pass"
   ]
  },
  {
   "cell_type": "code",
   "execution_count": 40,
   "id": "decent-framework",
   "metadata": {},
   "outputs": [],
   "source": [
    "bad_team_rider_combos = [(18468, -17275), (2665, -2305), (2665, -1768)]\n",
    "bad_team_rider_combos = \" or \".join(f\"(a={i} and b ={j}) or (a={j} and b={i})\" for i,j in bad_team_rider_combos)\n",
    "\n",
    "with sqlite.connect(path_to_db) as conn:\n",
    "    conn.execute(\"\"\"CREATE TABLE sport_ents (\n",
    "                    name text NOT NULL,\n",
    "                    url int NOT NULL,\n",
    "                    year int NOT NULL\n",
    "                ) \"\"\")\n",
    "    conn.execute(\"CREATE INDEX urls ON sport_ents (url) \")\n",
    "    conn.executemany(\"INSERT INTO sport_ents VALUES (?, ?, ?)\", sport_ents.to_numpy().tolist())\n",
    "    conn.execute(\"\"\"CREATE TABLE graph (\n",
    "                    a int NOT NULL,\n",
    "                    b int NOT NULL)\"\"\")\n",
    "    conn.executemany(\"INSERT INTO graph VALUES (?, ?)\", graph_sql)\n",
    "    # remove bad entries\n",
    "    conn.execute(f\"delete from graph where {bad_team_rider_combos}\")\n",
    "    conn.execute(\"CREATE INDEX graph_roots ON graph (a) \")\n",
    "conn.close()\n",
    "del conn"
   ]
  },
  {
   "cell_type": "code",
   "execution_count": 33,
   "id": "modular-finnish",
   "metadata": {},
   "outputs": [],
   "source": []
  },
  {
   "cell_type": "code",
   "execution_count": 35,
   "id": "acute-december",
   "metadata": {},
   "outputs": [
    {
     "data": {
      "text/plain": [
       "'(a=18468 and b =-17275) or a=-17275 and b=18468) or (a=2665 and b =-2305) or a=-2305 and b=2665) or (a=2665 and b =-1768) or a=-1768 and b=2665)'"
      ]
     },
     "execution_count": 35,
     "metadata": {},
     "output_type": "execute_result"
    }
   ],
   "source": []
  },
  {
   "cell_type": "code",
   "execution_count": null,
   "id": "northern-supplement",
   "metadata": {},
   "outputs": [],
   "source": []
  }
 ],
 "metadata": {
  "kernelspec": {
   "display_name": "Python 3",
   "language": "python",
   "name": "python3"
  },
  "language_info": {
   "codemirror_mode": {
    "name": "ipython",
    "version": 3
   },
   "file_extension": ".py",
   "mimetype": "text/x-python",
   "name": "python",
   "nbconvert_exporter": "python",
   "pygments_lexer": "ipython3",
   "version": "3.8.6"
  }
 },
 "nbformat": 4,
 "nbformat_minor": 5
}
