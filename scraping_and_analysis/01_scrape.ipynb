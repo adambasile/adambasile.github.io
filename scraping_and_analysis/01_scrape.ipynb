{
 "cells": [
  {
   "cell_type": "code",
   "execution_count": 1,
   "metadata": {},
   "outputs": [],
   "source": [
    "from bs4 import BeautifulSoup\n",
    "import requests\n",
    "import pandas as pd\n",
    "from multiprocessing import Pool\n",
    "import datetime\n",
    "\n",
    "import scrapers"
   ]
  },
  {
   "cell_type": "code",
   "execution_count": 20,
   "metadata": {},
   "outputs": [],
   "source": [
    "import itertools\n",
    "\n",
    "\n",
    "def p_imap_unordered_set(pool, func, iterable):\n",
    "    temp = pool.imap_unordered(func, iterable)\n",
    "    return set(itertools.chain.from_iterable(temp))\n",
    "\n",
    "\n",
    "the_time = lambda: datetime.datetime.now().time().strftime('%H:%M:%S')"
   ]
  },
  {
   "cell_type": "code",
   "execution_count": 23,
   "metadata": {},
   "outputs": [
    {
     "name": "stdout",
     "output_type": "stream",
     "text": [
      "16:43:54\n",
      "16:44:08 - iter 1, riders_to_do: 6764\n",
      "16:48:32 - teams_to_do: 5202\n",
      "16:49:55 - iter 2, riders_to_do: 14398\n",
      "16:58:37 - teams_to_do: 1209\n",
      "16:59:00 - iter 3, riders_to_do: 4260\n",
      "17:01:33 - teams_to_do: 162\n",
      "17:01:42 - iter 4, riders_to_do: 777\n",
      "17:02:18 - teams_to_do: 450\n",
      "17:02:31 - iter 5, riders_to_do: 1592\n",
      "17:03:34 - teams_to_do: 125\n",
      "17:03:42 - iter 6, riders_to_do: 462\n",
      "17:04:04 - teams_to_do: 7\n",
      "17:04:07 - iter 7, riders_to_do: 17\n",
      "17:04:11 - teams_to_do: 0\n",
      "17:04:11\n"
     ]
    }
   ],
   "source": [
    "riders_done = {\"rider/\"}\n",
    "teams_done = {\"team/\"}\n",
    "results = set()\n",
    "teams_to_do = set()\n",
    "\n",
    "print(the_time())\n",
    "\n",
    "with Pool(50) as p:\n",
    "    top_riders = p_imap_unordered_set(\n",
    "        p, scrapers.scrape_top, itertools.product(range(1946, 2021), (range(0, 301, 100)))\n",
    "    )\n",
    "\n",
    "riders_to_do = top_riders.copy()\n",
    "for i in range(50):\n",
    "    if not riders_to_do:\n",
    "        break\n",
    "    print(f\"{the_time()} - iter {i+1}, riders_to_do: {len(riders_to_do)}\")\n",
    "    with Pool(50) as p:\n",
    "        fresh_results = p_imap_unordered_set(p, scrapers.scrape_rider, riders_to_do)\n",
    "\n",
    "    results.update(fresh_results)\n",
    "    riders_done.update(riders_to_do)\n",
    "\n",
    "    teams_to_do = set(team for _, team, _ in fresh_results) - teams_done\n",
    "\n",
    "    print(f\"{the_time()} - teams_to_do: {len(teams_to_do)}\")\n",
    "\n",
    "    with Pool(50) as p:\n",
    "        riders_to_do = p_imap_unordered_set(p, scrapers.scrape_team, teams_to_do) - riders_done\n",
    "\n",
    "    teams_done.update(teams_to_do)\n",
    "\n",
    "print(the_time())"
   ]
  },
  {
   "cell_type": "code",
   "execution_count": 24,
   "metadata": {},
   "outputs": [],
   "source": [
    "with open(\"top_riders.txt\", \"w\") as f:\n",
    "    f.write(\"\\n\".join(sorted(top_riders)))\n",
    "\n",
    "df = pd.DataFrame(iter(results), columns=[\"rider\", \"team\", \"points\"])\n",
    "df.to_csv(\"scraped.csv\", index=False)"
   ]
  },
  {
   "cell_type": "code",
   "execution_count": null,
   "metadata": {},
   "outputs": [],
   "source": []
  }
 ],
 "metadata": {
  "kernelspec": {
   "display_name": "Python 3",
   "language": "python",
   "name": "python3"
  },
  "language_info": {
   "codemirror_mode": {
    "name": "ipython",
    "version": 3
   },
   "file_extension": ".py",
   "mimetype": "text/x-python",
   "name": "python",
   "nbconvert_exporter": "python",
   "pygments_lexer": "ipython3",
   "version": "3.8.6"
  }
 },
 "nbformat": 4,
 "nbformat_minor": 4
}
