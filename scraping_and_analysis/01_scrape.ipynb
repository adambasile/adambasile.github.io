{
 "cells": [
  {
   "cell_type": "code",
   "execution_count": 1,
   "metadata": {},
   "outputs": [],
   "source": [
    "from bs4 import BeautifulSoup\n",
    "import requests\n",
    "import pandas as pd\n",
    "from multiprocessing import Pool\n",
    "import datetime\n",
    "\n",
    "import scrapers"
   ]
  },
  {
   "cell_type": "code",
   "execution_count": 2,
   "metadata": {},
   "outputs": [],
   "source": [
    "import itertools\n",
    "\n",
    "\n",
    "def p_imap_unordered_set(pool, func, iterable):\n",
    "    temp = pool.imap_unordered(func, iterable)\n",
    "    return set(itertools.chain.from_iterable(temp))\n",
    "\n",
    "\n",
    "the_time = lambda: datetime.datetime.now().time().strftime('%H:%M:%S')"
   ]
  },
  {
   "cell_type": "code",
   "execution_count": 3,
   "metadata": {},
   "outputs": [
    {
     "name": "stdout",
     "output_type": "stream",
     "text": [
      "00:07:11\n",
      "00:07:38 - iter 1, riders_to_do: 4762\n",
      "00:10:12 - teams_to_do: 6312\n"
     ]
    },
    {
     "ename": "IndexError",
     "evalue": "Problem with '4581'",
     "output_type": "error",
     "traceback": [
      "\u001b[1;31m---------------------------------------------------------------------------\u001b[0m",
      "\u001b[1;31mRemoteTraceback\u001b[0m                           Traceback (most recent call last)",
      "\u001b[1;31mRemoteTraceback\u001b[0m: \n\"\"\"\nTraceback (most recent call last):\n  File \"D:\\adam\\sixdegrees\\scraping_and_analysis\\scrapers.py\", line 41, in scrape_team\n    for a in soup.find_all(\"table\", **{\"class\": \"tablesorter\"})[0].find_all(\"a\")[::2]\nIndexError: list index out of range\n\nDuring handling of the above exception, another exception occurred:\n\nTraceback (most recent call last):\n  File \"C:\\Users\\adam.basile\\AppData\\Local\\Continuum\\anaconda3\\envs\\py38\\lib\\multiprocessing\\pool.py\", line 121, in worker\n    result = (True, func(*args, **kwds))\n  File \"D:\\adam\\sixdegrees\\scraping_and_analysis\\scrapers.py\", line 46, in scrape_team\n    raise type(e)(f\"Problem with '{team}'\").with_traceback(sys.exc_info()[2])\n  File \"D:\\adam\\sixdegrees\\scraping_and_analysis\\scrapers.py\", line 41, in scrape_team\n    for a in soup.find_all(\"table\", **{\"class\": \"tablesorter\"})[0].find_all(\"a\")[::2]\nIndexError: Problem with '4581'\n\"\"\"",
      "\nThe above exception was the direct cause of the following exception:\n",
      "\u001b[1;31mIndexError\u001b[0m                                Traceback (most recent call last)",
      "\u001b[1;32m<ipython-input-3-6523a482d2aa>\u001b[0m in \u001b[0;36m<module>\u001b[1;34m\u001b[0m\n\u001b[0;32m     32\u001b[0m \u001b[1;33m\u001b[0m\u001b[0m\n\u001b[0;32m     33\u001b[0m     \u001b[1;32mwith\u001b[0m \u001b[0mPool\u001b[0m\u001b[1;33m(\u001b[0m\u001b[1;36m50\u001b[0m\u001b[1;33m)\u001b[0m \u001b[1;32mas\u001b[0m \u001b[0mp\u001b[0m\u001b[1;33m:\u001b[0m\u001b[1;33m\u001b[0m\u001b[1;33m\u001b[0m\u001b[0m\n\u001b[1;32m---> 34\u001b[1;33m         \u001b[0mriders_to_do\u001b[0m \u001b[1;33m=\u001b[0m \u001b[0mp_imap_unordered_set\u001b[0m\u001b[1;33m(\u001b[0m\u001b[0mp\u001b[0m\u001b[1;33m,\u001b[0m \u001b[0mscrapers\u001b[0m\u001b[1;33m.\u001b[0m\u001b[0mscrape_team\u001b[0m\u001b[1;33m,\u001b[0m \u001b[0mteams_to_do\u001b[0m\u001b[1;33m)\u001b[0m \u001b[1;33m-\u001b[0m \u001b[0mriders_done\u001b[0m\u001b[1;33m\u001b[0m\u001b[1;33m\u001b[0m\u001b[0m\n\u001b[0m\u001b[0;32m     35\u001b[0m \u001b[1;33m\u001b[0m\u001b[0m\n\u001b[0;32m     36\u001b[0m     \u001b[0mteams_done\u001b[0m\u001b[1;33m.\u001b[0m\u001b[0mupdate\u001b[0m\u001b[1;33m(\u001b[0m\u001b[0mteams_to_do\u001b[0m\u001b[1;33m)\u001b[0m\u001b[1;33m\u001b[0m\u001b[1;33m\u001b[0m\u001b[0m\n",
      "\u001b[1;32m<ipython-input-2-d2774368dd46>\u001b[0m in \u001b[0;36mp_imap_unordered_set\u001b[1;34m(pool, func, iterable)\u001b[0m\n\u001b[0;32m      4\u001b[0m \u001b[1;32mdef\u001b[0m \u001b[0mp_imap_unordered_set\u001b[0m\u001b[1;33m(\u001b[0m\u001b[0mpool\u001b[0m\u001b[1;33m,\u001b[0m \u001b[0mfunc\u001b[0m\u001b[1;33m,\u001b[0m \u001b[0miterable\u001b[0m\u001b[1;33m)\u001b[0m\u001b[1;33m:\u001b[0m\u001b[1;33m\u001b[0m\u001b[1;33m\u001b[0m\u001b[0m\n\u001b[0;32m      5\u001b[0m     \u001b[0mtemp\u001b[0m \u001b[1;33m=\u001b[0m \u001b[0mpool\u001b[0m\u001b[1;33m.\u001b[0m\u001b[0mimap_unordered\u001b[0m\u001b[1;33m(\u001b[0m\u001b[0mfunc\u001b[0m\u001b[1;33m,\u001b[0m \u001b[0miterable\u001b[0m\u001b[1;33m)\u001b[0m\u001b[1;33m\u001b[0m\u001b[1;33m\u001b[0m\u001b[0m\n\u001b[1;32m----> 6\u001b[1;33m     \u001b[1;32mreturn\u001b[0m \u001b[0mset\u001b[0m\u001b[1;33m(\u001b[0m\u001b[0mitertools\u001b[0m\u001b[1;33m.\u001b[0m\u001b[0mchain\u001b[0m\u001b[1;33m.\u001b[0m\u001b[0mfrom_iterable\u001b[0m\u001b[1;33m(\u001b[0m\u001b[0mtemp\u001b[0m\u001b[1;33m)\u001b[0m\u001b[1;33m)\u001b[0m\u001b[1;33m\u001b[0m\u001b[1;33m\u001b[0m\u001b[0m\n\u001b[0m\u001b[0;32m      7\u001b[0m \u001b[1;33m\u001b[0m\u001b[0m\n\u001b[0;32m      8\u001b[0m \u001b[1;33m\u001b[0m\u001b[0m\n",
      "\u001b[1;32m~\\AppData\\Local\\Continuum\\anaconda3\\envs\\py38\\lib\\multiprocessing\\pool.py\u001b[0m in \u001b[0;36mnext\u001b[1;34m(self, timeout)\u001b[0m\n\u001b[0;32m    746\u001b[0m         \u001b[1;32mif\u001b[0m \u001b[0msuccess\u001b[0m\u001b[1;33m:\u001b[0m\u001b[1;33m\u001b[0m\u001b[1;33m\u001b[0m\u001b[0m\n\u001b[0;32m    747\u001b[0m             \u001b[1;32mreturn\u001b[0m \u001b[0mvalue\u001b[0m\u001b[1;33m\u001b[0m\u001b[1;33m\u001b[0m\u001b[0m\n\u001b[1;32m--> 748\u001b[1;33m         \u001b[1;32mraise\u001b[0m \u001b[0mvalue\u001b[0m\u001b[1;33m\u001b[0m\u001b[1;33m\u001b[0m\u001b[0m\n\u001b[0m\u001b[0;32m    749\u001b[0m \u001b[1;33m\u001b[0m\u001b[0m\n\u001b[0;32m    750\u001b[0m     \u001b[0m__next__\u001b[0m \u001b[1;33m=\u001b[0m \u001b[0mnext\u001b[0m                    \u001b[1;31m# XXX\u001b[0m\u001b[1;33m\u001b[0m\u001b[1;33m\u001b[0m\u001b[0m\n",
      "\u001b[1;31mIndexError\u001b[0m: Problem with '4581'"
     ]
    }
   ],
   "source": [
    "riders_done = set()\n",
    "teams_done = set()\n",
    "results = set()\n",
    "teams_to_do = set()\n",
    "\n",
    "print(the_time())\n",
    "\n",
    "with Pool(100) as p:\n",
    "    top_mens_riders = p_imap_unordered_set(\n",
    "        p, scrapers.scrape_top, itertools.product(range(1960, 2021), range(1, 4), [True])\n",
    "    )\n",
    "    top_womens_riders = p_imap_unordered_set(\n",
    "        p, scrapers.scrape_top, itertools.product(range(2018, 2021), range(1, 4), [False])\n",
    "    )\n",
    "\n",
    "top_riders = top_mens_riders | top_womens_riders\n",
    "\n",
    "riders_to_do = top_riders.copy()\n",
    "for i in range(50):\n",
    "    if not riders_to_do:\n",
    "        break\n",
    "    print(f\"{the_time()} - iter {i+1}, riders_to_do: {len(riders_to_do)}\")\n",
    "    with Pool(50) as p:\n",
    "        fresh_results = p_imap_unordered_set(p, scrapers.scrape_rider, riders_to_do)\n",
    "\n",
    "    results.update(fresh_results)\n",
    "    riders_done.update(riders_to_do)\n",
    "\n",
    "    teams_to_do = set(team for _, team in fresh_results) - teams_done\n",
    "\n",
    "    print(f\"{the_time()} - teams_to_do: {len(teams_to_do)}\")\n",
    "\n",
    "    with Pool(50) as p:\n",
    "        riders_to_do = p_imap_unordered_set(p, scrapers.scrape_team, teams_to_do) - riders_done\n",
    "\n",
    "    teams_done.update(teams_to_do)\n",
    "\n",
    "print(the_time())"
   ]
  },
  {
   "cell_type": "code",
   "execution_count": null,
   "metadata": {},
   "outputs": [],
   "source": [
    "with open(\"top_riders.txt\", \"w\") as f:\n",
    "    f.write(\"\\n\".join(sorted(top_riders)))\n",
    "    \n",
    "with open(\"top_mens_riders.txt\", \"w\") as f:\n",
    "    f.write(\"\\n\".join(sorted(top_mens_riders)))\n",
    "    \n",
    "with open(\"top_womens_riders.txt\", \"w\") as f:\n",
    "    f.write(\"\\n\".join(sorted(top_womens_riders)))\n",
    "\n",
    "df = pd.DataFrame(iter(results), columns=[\"rider\", \"team\"])\n",
    "df.to_csv(\"scraped.csv\", index=False)"
   ]
  },
  {
   "cell_type": "code",
   "execution_count": null,
   "metadata": {},
   "outputs": [],
   "source": [
    "with requests.get(f\"https://firstcycling.com/rider.php?r=32895&teams=1\") as fp:\n",
    "    soup = BeautifulSoup(fp.text, \"html.parser\")\n",
    "tables = soup.find_all(\"table\", **{\"class\": \"tablesorter\"})"
   ]
  },
  {
   "cell_type": "code",
   "execution_count": null,
   "metadata": {},
   "outputs": [],
   "source": [
    "tables[1].find_all(\"a\")"
   ]
  },
  {
   "cell_type": "code",
   "execution_count": null,
   "metadata": {},
   "outputs": [],
   "source": []
  }
 ],
 "metadata": {
  "kernelspec": {
   "display_name": "Python 3",
   "language": "python",
   "name": "python3"
  },
  "language_info": {
   "codemirror_mode": {
    "name": "ipython",
    "version": 3
   },
   "file_extension": ".py",
   "mimetype": "text/x-python",
   "name": "python",
   "nbconvert_exporter": "python",
   "pygments_lexer": "ipython3",
   "version": "3.7.9"
  }
 },
 "nbformat": 4,
 "nbformat_minor": 4
}
